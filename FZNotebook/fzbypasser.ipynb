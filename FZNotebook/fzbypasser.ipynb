{
  "nbformat": 4,
  "nbformat_minor": 0,
  "metadata": {
    "colab": {
      "provenance": [],
      "cell_execution_strategy": "setup",
      "authorship_tag": "ABX9TyN5OVCQUjjXi6g6HoA/WV0C",
      "include_colab_link": true
    },
    "kernelspec": {
      "name": "python3",
      "display_name": "Python 3"
    },
    "language_info": {
      "name": "python"
    }
  },
  "cells": [
    {
      "cell_type": "markdown",
      "metadata": {
        "id": "view-in-github",
        "colab_type": "text"
      },
      "source": [
        "<a href=\"https://colab.research.google.com/github/SilentDemonSD/FZBypassBot/blob/main/FZNotebook/fzbypasser.ipynb\" target=\"_parent\"><img src=\"https://colab.research.google.com/assets/colab-badge.svg\" alt=\"Open In Colab\"/></a>"
      ]
    },
    {
      "cell_type": "markdown",
      "source": [
        "# ***FZBypassBot***\n",
        "\n",
        "_A Elegant Fast Multi Threaded Bypass Telegram Bot for Bigger Deeds like Mass Bypass. Try Now, and Feel the Speedy Work._"
      ],
      "metadata": {
        "id": "VjfA_UU_0Mo4"
      }
    },
    {
      "cell_type": "code",
      "execution_count": null,
      "metadata": {
        "id": "YXlUcyRtgSCX",
        "cellView": "form"
      },
      "outputs": [],
      "source": [
        "#@title ***Install Deficiencies***\n",
        "\n",
        "!pip3 install -U pip uv\n",
        "!uv pip install --system aiohttp bs4 cfscrape cloudscraper curl_cffi lxml httpx python-dotenv requests urllib3==1.26 uvloop\n",
        "\n",
        "from IPython.display import clear_output, HTML, display\n",
        "clear_output()\n",
        "\n",
        "display(HTML(\"<marquee><b>Successfully Installed</b></marquee>\"))"
      ]
    },
    {
      "cell_type": "code",
      "source": [
        "#@title ***Bypass Links***\n",
        "\n",
        "#@markdown ---\n",
        "\n",
        "URL = \"https://ronylink.com/JO3Ov8\" #@param {type:\"string\"}\n",
        "\n",
        "#@markdown ---\n",
        "\n",
        "try:\n",
        "    from re import findall, match\n",
        "    from time import sleep, time\n",
        "    from asyncio import sleep as asleep\n",
        "\n",
        "    from bs4 import BeautifulSoup\n",
        "    from cloudscraper import create_scraper\n",
        "except ImportError:\n",
        "    raise ValueError(\"ReRun Previous Cell, to Install Deficiencies !!\")\n",
        "\n",
        "async def transcript(url: str, DOMAIN: str, ref: str, sltime) -> str:\n",
        "    code = url.rstrip(\"/\").split(\"/\")[-1]\n",
        "    cget = create_scraper(allow_brotli=False).request\n",
        "    resp = cget(\"GET\", f\"{DOMAIN}/{code}\", headers={\"referer\": ref})\n",
        "    soup = BeautifulSoup(resp.content, \"html.parser\")\n",
        "    data = {inp.get(\"name\"): inp.get(\"value\") for inp in soup.find_all(\"input\")}\n",
        "    await asleep(sltime)\n",
        "    resp = cget(\n",
        "        \"POST\",\n",
        "        f\"{DOMAIN}/links/go\",\n",
        "        data=data,\n",
        "        headers={\"x-requested-with\": \"XMLHttpRequest\"},\n",
        "    )\n",
        "    try:\n",
        "        return resp.json()[\"url\"]\n",
        "    except:\n",
        "        print(\"Link Extraction Failed\")\n",
        "\n",
        "print(\"Bypassing...\")\n",
        "\n",
        "if bool(match(r\"https?:\\/\\/ronylink\\.\\S+\", URL)):\n",
        "    blink = await transcript(\n",
        "            URL, \"https://go.ronylink.com/\", \"https://livejankari.com/\", 9\n",
        "        )\n",
        "from IPython.display import clear_output\n",
        "clear_output()\n",
        "print(\"Bypassed URL : \\n\", blink)"
      ],
      "metadata": {
        "cellView": "form",
        "id": "apFB3Bh6snhj"
      },
      "execution_count": null,
      "outputs": []
    }
  ]
}